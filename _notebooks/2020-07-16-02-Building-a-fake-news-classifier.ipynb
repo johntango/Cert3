{
  "nbformat": 4,
  "nbformat_minor": 0,
  "metadata": {
    "kernelspec": {
      "display_name": "Python 3",
      "language": "python",
      "name": "python3"
    },
    "language_info": {
      "codemirror_mode": {
        "name": "ipython",
        "version": 3
      },
      "file_extension": ".py",
      "mimetype": "text/x-python",
      "name": "python",
      "nbconvert_exporter": "python",
      "pygments_lexer": "ipython3",
      "version": "3.7.6"
    },
    "colab": {
      "name": "2020-07-16-02-Building-a-fake-news-classifier.ipynb",
      "provenance": [],
      "toc_visible": true
    }
  },
  "cells": [
    {
      "cell_type": "markdown",
      "metadata": {
        "id": "OYOsIIhrxMZp"
      },
      "source": [
        "# Building a fake news classifier\n",
        "> You'll apply the basics of what you've learned along with some supervised machine learning to build a \"fake news\" detector. You'll begin by learning the basics of supervised machine learning, and then move forward by choosing a few important features and testing ideas to identify and classify fake news articles. This is the Summary of lecture \"Introduction to Natural Language Processing in Python\", via datacamp.\n",
        "\n",
        "- toc: true \n",
        "- badges: true\n",
        "- comments: true\n",
        "- author: Chanseok Kang\n",
        "- categories: [Python, Datacamp, Natural_Language_Processing]\n",
        "- image: "
      ]
    },
    {
      "cell_type": "code",
      "metadata": {
        "id": "pFarPUvdxMZr"
      },
      "source": [
        "import pandas as pd\n",
        "import numpy as np"
      ],
      "execution_count": 2,
      "outputs": []
    },
    {
      "cell_type": "markdown",
      "metadata": {
        "id": "kEncY-l2xMZr"
      },
      "source": [
        "## Classifying fake news using supervised learning with NLP\n",
        "- Supervised learning with NLP\n",
        "    - Need to use language instead of geometric features\n",
        "    - Use bag-of-words models or tf-idf features\n",
        "- Supervised learning steps\n",
        "    - Collect and preprocess our data\n",
        "    - Determine a label\n",
        "    - Split data into training and test sets\n",
        "    - Extract features from the text to help predict the label\n",
        "    - Evaluate trained model using test set"
      ]
    },
    {
      "cell_type": "markdown",
      "metadata": {
        "id": "Q6_BUXcYxMZs"
      },
      "source": [
        "## Building word count vectors with scikit-learn\n"
      ]
    },
    {
      "cell_type": "markdown",
      "metadata": {
        "id": "gX_5jyK9xMZs"
      },
      "source": [
        "### CountVectorizer for text classification\n",
        "It's time to begin building your text classifier! The [data](https://s3.amazonaws.com/assets.datacamp.com/production/course_3629/fake_or_real_news.csv) has been loaded into a DataFrame called df. The `.head()` method is particularly informative.\n",
        "\n",
        "In this exercise, you'll use `pandas` alongside scikit-learn to create a sparse text vectorizer you can use to train and test a simple supervised model. To begin, you'll set up a `CountVectorizer` and investigate some of its features."
      ]
    },
    {
      "cell_type": "code",
      "metadata": {
        "id": "pcIFMfakxMZs",
        "outputId": "29377df5-671e-421a-ad00-40106a4f9c8c",
        "colab": {
          "base_uri": "https://localhost:8080/",
          "height": 204
        }
      },
      "source": [
        "df = pd.read_csv('/content/fake_or_real_news.csv')\n",
        "df.head()"
      ],
      "execution_count": 3,
      "outputs": [
        {
          "output_type": "execute_result",
          "data": {
            "text/html": [
              "<div>\n",
              "<style scoped>\n",
              "    .dataframe tbody tr th:only-of-type {\n",
              "        vertical-align: middle;\n",
              "    }\n",
              "\n",
              "    .dataframe tbody tr th {\n",
              "        vertical-align: top;\n",
              "    }\n",
              "\n",
              "    .dataframe thead th {\n",
              "        text-align: right;\n",
              "    }\n",
              "</style>\n",
              "<table border=\"1\" class=\"dataframe\">\n",
              "  <thead>\n",
              "    <tr style=\"text-align: right;\">\n",
              "      <th></th>\n",
              "      <th>Unnamed: 0</th>\n",
              "      <th>title</th>\n",
              "      <th>text</th>\n",
              "      <th>label</th>\n",
              "    </tr>\n",
              "  </thead>\n",
              "  <tbody>\n",
              "    <tr>\n",
              "      <th>0</th>\n",
              "      <td>8476</td>\n",
              "      <td>You Can Smell Hillary’s Fear</td>\n",
              "      <td>Daniel Greenfield, a Shillman Journalism Fello...</td>\n",
              "      <td>FAKE</td>\n",
              "    </tr>\n",
              "    <tr>\n",
              "      <th>1</th>\n",
              "      <td>10294</td>\n",
              "      <td>Watch The Exact Moment Paul Ryan Committed Pol...</td>\n",
              "      <td>Google Pinterest Digg Linkedin Reddit Stumbleu...</td>\n",
              "      <td>FAKE</td>\n",
              "    </tr>\n",
              "    <tr>\n",
              "      <th>2</th>\n",
              "      <td>3608</td>\n",
              "      <td>Kerry to go to Paris in gesture of sympathy</td>\n",
              "      <td>U.S. Secretary of State John F. Kerry said Mon...</td>\n",
              "      <td>REAL</td>\n",
              "    </tr>\n",
              "    <tr>\n",
              "      <th>3</th>\n",
              "      <td>10142</td>\n",
              "      <td>Bernie supporters on Twitter erupt in anger ag...</td>\n",
              "      <td>— Kaydee King (@KaydeeKing) November 9, 2016 T...</td>\n",
              "      <td>FAKE</td>\n",
              "    </tr>\n",
              "    <tr>\n",
              "      <th>4</th>\n",
              "      <td>875</td>\n",
              "      <td>The Battle of New York: Why This Primary Matters</td>\n",
              "      <td>It's primary day in New York and front-runners...</td>\n",
              "      <td>REAL</td>\n",
              "    </tr>\n",
              "  </tbody>\n",
              "</table>\n",
              "</div>"
            ],
            "text/plain": [
              "   Unnamed: 0  ... label\n",
              "0        8476  ...  FAKE\n",
              "1       10294  ...  FAKE\n",
              "2        3608  ...  REAL\n",
              "3       10142  ...  FAKE\n",
              "4         875  ...  REAL\n",
              "\n",
              "[5 rows x 4 columns]"
            ]
          },
          "metadata": {
            "tags": []
          },
          "execution_count": 3
        }
      ]
    },
    {
      "cell_type": "code",
      "metadata": {
        "id": "AEzV6oFFxMZt",
        "outputId": "17f62a94-9f7f-41a9-d167-f522176c53e8",
        "colab": {
          "base_uri": "https://localhost:8080/"
        }
      },
      "source": [
        "from sklearn.feature_extraction.text import CountVectorizer\n",
        "from sklearn.model_selection import train_test_split\n",
        "\n",
        "# Create a series to store the labels: y\n",
        "y = df.label\n",
        "\n",
        "# Create training set and test set\n",
        "X_train, X_test, y_train, y_test = train_test_split(df['text'], y, \n",
        "                                                    test_size=0.33, random_state=53)\n",
        "\n",
        "# Initialize a CountVectorizer object: count_vectorizer\n",
        "count_vectorizer = CountVectorizer(stop_words='english')\n",
        "\n",
        "# Transform the training data using only the 'text' column values: count_train\n",
        "count_train = count_vectorizer.fit_transform(X_train)\n",
        "\n",
        "# Transform the test data using only the 'text' column values: count_test\n",
        "count_test = count_vectorizer.transform(X_test)\n",
        "\n",
        "# Print the first 10 features of the count_vectorizer\n",
        "print(count_vectorizer.get_feature_names()[:10])"
      ],
      "execution_count": 4,
      "outputs": [
        {
          "output_type": "stream",
          "text": [
            "['00', '000', '0000', '00000031', '000035', '0001', '000billion', '001', '0011', '002']\n"
          ],
          "name": "stdout"
        }
      ]
    },
    {
      "cell_type": "markdown",
      "metadata": {
        "id": "0B_afPPPxMZu"
      },
      "source": [
        "### TfidfVectorizer for text classification\n",
        "Similar to the sparse `CountVectorizer` created in the previous exercise, you'll work on creating tf-idf vectors for your documents. You'll set up a `TfidfVectorizer` and investigate some of its features."
      ]
    },
    {
      "cell_type": "code",
      "metadata": {
        "id": "69TMclKOxMZu",
        "outputId": "f737454e-f027-4f94-ad64-4f48a3beb692",
        "colab": {
          "base_uri": "https://localhost:8080/"
        }
      },
      "source": [
        "from sklearn.feature_extraction.text import TfidfVectorizer\n",
        "\n",
        "# Initialize a TfidfVectorizer object: tfidf_vectorizer\n",
        "tfidf_vectorizer = TfidfVectorizer(stop_words='english', max_df=0.7)\n",
        "\n",
        "# Transform the training data: tfidf_train\n",
        "tfidf_train = tfidf_vectorizer.fit_transform(X_train)\n",
        "\n",
        "# transform the test data: tfidf_test\n",
        "tfidf_test = tfidf_vectorizer.transform(X_test)\n",
        "\n",
        "# Print the first 10 features\n",
        "print(tfidf_vectorizer.get_feature_names()[:10])\n",
        "\n",
        "# Print the first 5 vectors of the tfidf training data\n",
        "print(tfidf_train.A[:5])"
      ],
      "execution_count": 5,
      "outputs": [
        {
          "output_type": "stream",
          "text": [
            "['00', '000', '0000', '00000031', '000035', '0001', '000billion', '001', '0011', '002']\n",
            "[[0.        0.        0.        ... 0.        0.        0.       ]\n",
            " [0.        0.        0.        ... 0.        0.        0.       ]\n",
            " [0.        0.        0.        ... 0.        0.        0.       ]\n",
            " [0.        0.0189101 0.        ... 0.        0.        0.       ]\n",
            " [0.        0.        0.        ... 0.        0.        0.       ]]\n"
          ],
          "name": "stdout"
        }
      ]
    },
    {
      "cell_type": "markdown",
      "metadata": {
        "id": "9ooZ3oGzxMZu"
      },
      "source": [
        "### Inspecting the vectors\n",
        "To get a better idea of how the vectors work, you'll investigate them by converting them into pandas DataFrames."
      ]
    },
    {
      "cell_type": "code",
      "metadata": {
        "id": "8_-3CLw0xMZv",
        "outputId": "50037af8-2d6d-4e3a-ce62-63dab3bc3764",
        "colab": {
          "base_uri": "https://localhost:8080/"
        }
      },
      "source": [
        "# Create the CountVectorizer DataFrame: count_df\n",
        "count_df = pd.DataFrame(count_train.A, columns=count_vectorizer.get_feature_names())\n",
        "\n",
        "# Create the TfidfVectorizer DataFrame: tfidf_df\n",
        "tfidf_df = pd.DataFrame(tfidf_train.A, columns=tfidf_vectorizer.get_feature_names())\n",
        "\n",
        "# Print the head of count_df\n",
        "print(count_df.head())\n",
        "\n",
        "# Print the head of tfidf_df\n",
        "print(tfidf_df.head())\n",
        "\n",
        "# Calculate the difference in columns: difference\n",
        "difference = set(count_df.columns) - set(tfidf_df.columns)\n",
        "print(difference)\n",
        "\n",
        "# Check whether the DataFrame are equal\n",
        "print(count_df.equals(tfidf_df))"
      ],
      "execution_count": 6,
      "outputs": [
        {
          "output_type": "stream",
          "text": [
            "   00  000  0000  00000031  000035  ...  תיירות  תנותק  תעודת  תתרכז  القادمون\n",
            "0   0    0     0         0       0  ...       0      0      0      0         0\n",
            "1   0    0     0         0       0  ...       0      0      0      0         0\n",
            "2   0    0     0         0       0  ...       0      0      0      0         0\n",
            "3   0    1     0         0       0  ...       0      0      0      0         0\n",
            "4   0    0     0         0       0  ...       0      0      0      0         0\n",
            "\n",
            "[5 rows x 50494 columns]\n",
            "    00      000  0000  00000031  000035  ...  תיירות  תנותק  תעודת  תתרכז  القادمون\n",
            "0  0.0  0.00000   0.0       0.0     0.0  ...     0.0    0.0    0.0    0.0       0.0\n",
            "1  0.0  0.00000   0.0       0.0     0.0  ...     0.0    0.0    0.0    0.0       0.0\n",
            "2  0.0  0.00000   0.0       0.0     0.0  ...     0.0    0.0    0.0    0.0       0.0\n",
            "3  0.0  0.01891   0.0       0.0     0.0  ...     0.0    0.0    0.0    0.0       0.0\n",
            "4  0.0  0.00000   0.0       0.0     0.0  ...     0.0    0.0    0.0    0.0       0.0\n",
            "\n",
            "[5 rows x 50494 columns]\n",
            "set()\n",
            "False\n"
          ],
          "name": "stdout"
        }
      ]
    },
    {
      "cell_type": "markdown",
      "metadata": {
        "id": "7sApr87_xMZv"
      },
      "source": [
        "## Training and testing a classification model with scikit-learn"
      ]
    },
    {
      "cell_type": "markdown",
      "metadata": {
        "id": "dvLEg75vxMZv"
      },
      "source": [
        "### Training and testing the \"fake news\" model with CountVectorizer\n",
        "Now it's your turn to train the \"fake news\" model using the features you identified and extracted. In this first exercise you'll train and test a Naive Bayes model using the CountVectorizer data."
      ]
    },
    {
      "cell_type": "code",
      "metadata": {
        "id": "KMWQ0V6qxMZv",
        "outputId": "2db00994-2242-4990-d6bb-907a9e7abcb5",
        "colab": {
          "base_uri": "https://localhost:8080/"
        }
      },
      "source": [
        "from sklearn.naive_bayes import MultinomialNB\n",
        "from sklearn.metrics import accuracy_score, confusion_matrix\n",
        "\n",
        "# Instantiate a Multinomial Naive Bayes classifier: nb_classifier\n",
        "nb_classifier = MultinomialNB()\n",
        "\n",
        "# Fit the classifier to the training data\n",
        "nb_classifier.fit(count_train, y_train)\n",
        "\n",
        "# Create the predicted tags: pred\n",
        "pred = nb_classifier.predict(count_test)\n",
        "\n",
        "# Calculate the accuracy score: score\n",
        "score = accuracy_score(y_test, pred)\n",
        "print(score)\n",
        "\n",
        "# Calculate the confusion matrix: cm\n",
        "cm =confusion_matrix(y_test, pred, labels=['FAKE', 'REAL'])\n",
        "print(cm)"
      ],
      "execution_count": 7,
      "outputs": [
        {
          "output_type": "stream",
          "text": [
            "0.8788839568801522\n",
            "[[673 132]\n",
            " [ 59 713]]\n"
          ],
          "name": "stdout"
        }
      ]
    },
    {
      "cell_type": "markdown",
      "metadata": {
        "id": "tWItAwnoxMZw"
      },
      "source": [
        "### Training and testing the \"fake news\" model with TfidfVectorizer\n",
        "Now that you have evaluated the model using the `CountVectorizer`, you'll do the same using the `TfidfVectorizer` with a Naive Bayes model."
      ]
    },
    {
      "cell_type": "code",
      "metadata": {
        "id": "ND14X0LjxMZw",
        "outputId": "169bd3c0-4a5d-4f21-9738-d608cca0cc99",
        "colab": {
          "base_uri": "https://localhost:8080/"
        }
      },
      "source": [
        "# Create a Multinomial Naive Bayes classifier: nb_classifier\n",
        "nb_classifier = MultinomialNB()\n",
        "\n",
        "# Fit the classifier to the training data\n",
        "nb_classifier.fit(tfidf_train, y_train)\n",
        "\n",
        "# Create the predicted tags: pred\n",
        "pred = nb_classifier.predict(tfidf_test)\n",
        "\n",
        "# Calculate the accuracy score: score\n",
        "score = accuracy_score(y_test, pred)\n",
        "print(score)\n",
        "\n",
        "# Calculate the confusion matrix: cm\n",
        "cm = confusion_matrix(y_test, pred, labels=['FAKE', 'REAL'])\n",
        "print(cm)"
      ],
      "execution_count": 8,
      "outputs": [
        {
          "output_type": "stream",
          "text": [
            "0.7628408370323398\n",
            "[[436 369]\n",
            " [  5 767]]\n"
          ],
          "name": "stdout"
        }
      ]
    },
    {
      "cell_type": "markdown",
      "metadata": {
        "id": "wvvEKwV8xMZw"
      },
      "source": [
        "## Simple NLP, complex problems\n"
      ]
    },
    {
      "cell_type": "markdown",
      "metadata": {
        "id": "RDtCVS6exMZx"
      },
      "source": [
        "### Improving your model\n",
        "Your job in this exercise is to test a few different alpha levels using the Tfidf vectors to determine if there is a better performing combination."
      ]
    },
    {
      "cell_type": "code",
      "metadata": {
        "id": "9jh3tWcNxMZx",
        "outputId": "0b750e66-7904-46f7-e94b-8db87288f5ce",
        "colab": {
          "base_uri": "https://localhost:8080/"
        }
      },
      "source": [
        "# Create the list of alphas: alphas\n",
        "alphas = np.arange(0, 1, 0.1)\n",
        "\n",
        "# Define train_and_predict()\n",
        "def train_and_predict(alpha):\n",
        "    # Instantiate the classifier: nb_classifier\n",
        "    nb_classifier = MultinomialNB(alpha=alpha)\n",
        "    \n",
        "    # Fit to the training data\n",
        "    nb_classifier.fit(tfidf_train, y_train)\n",
        "    \n",
        "    # Predict the labels: pred\n",
        "    pred = nb_classifier.predict(tfidf_test)\n",
        "    \n",
        "    # Compute accuracy: score\n",
        "    score = accuracy_score(y_test, pred)\n",
        "    return score\n",
        "\n",
        "# Iterate over the alphas and print the corresponding score\n",
        "for alpha in alphas:\n",
        "    print('Alpha: ', alpha)\n",
        "    print('Score: ', train_and_predict(alpha))\n",
        "    print()"
      ],
      "execution_count": 9,
      "outputs": [
        {
          "output_type": "stream",
          "text": [
            "Alpha:  0.0\n",
            "Score:  0.865567533291059\n",
            "\n",
            "Alpha:  0.1\n",
            "Score:  0.8776157260621433\n",
            "\n",
            "Alpha:  0.2\n",
            "Score:  0.8674698795180723\n",
            "\n",
            "Alpha:  0.30000000000000004\n",
            "Score:  0.8560558021559924\n",
            "\n",
            "Alpha:  0.4\n",
            "Score:  0.8363982244768547\n",
            "\n",
            "Alpha:  0.5\n",
            "Score:  0.8167406467977172\n",
            "\n",
            "Alpha:  0.6000000000000001\n",
            "Score:  0.7989854153455929\n",
            "\n",
            "Alpha:  0.7000000000000001\n",
            "Score:  0.7913760304375397\n",
            "\n",
            "Alpha:  0.8\n",
            "Score:  0.7786937222574508\n",
            "\n",
            "Alpha:  0.9\n",
            "Score:  0.7698161065313888\n",
            "\n"
          ],
          "name": "stdout"
        },
        {
          "output_type": "stream",
          "text": [
            "/usr/local/lib/python3.7/dist-packages/sklearn/naive_bayes.py:507: UserWarning: alpha too small will result in numeric errors, setting alpha = 1.0e-10\n",
            "  'setting alpha = %.1e' % _ALPHA_MIN)\n"
          ],
          "name": "stderr"
        }
      ]
    },
    {
      "cell_type": "markdown",
      "metadata": {
        "id": "tZUl_rS2xMZx"
      },
      "source": [
        "### Inspecting your model\n",
        "Now that you have built a \"fake news\" classifier, you'll investigate what it has learned. You can map the important vector weights back to actual words using some simple inspection techniques."
      ]
    },
    {
      "cell_type": "code",
      "metadata": {
        "id": "lRAYyKb6xMZx",
        "outputId": "c490f0ba-ea1b-4e32-d510-f1786e65dc8b",
        "colab": {
          "base_uri": "https://localhost:8080/"
        }
      },
      "source": [
        "# Get the class labels: class_labels\n",
        "class_labels = nb_classifier.classes_\n",
        "\n",
        "# Extract the features: feature_names\n",
        "feature_names = tfidf_vectorizer.get_feature_names()\n",
        "\n",
        "# Zip the feature names together with the coefficient array \n",
        "# and sort by weights: feat_with_weights\n",
        "feat_with_weights = sorted(zip(nb_classifier.coef_[0], feature_names))\n",
        "\n",
        "# Print the first class label and the top 20 feat_with_weights entries\n",
        "print(class_labels[0], feat_with_weights[:20])\n",
        "\n",
        "# Print the second class label and the bottom 20 feat_with_weights entries\n",
        "print(class_labels[1], feat_with_weights[-20:])"
      ],
      "execution_count": 10,
      "outputs": [
        {
          "output_type": "stream",
          "text": [
            "FAKE [(-11.166283081692315, '000035'), (-11.166283081692315, '0001'), (-11.166283081692315, '000billion'), (-11.166283081692315, '0011'), (-11.166283081692315, '005'), (-11.166283081692315, '005s'), (-11.166283081692315, '006s'), (-11.166283081692315, '007s'), (-11.166283081692315, '008s'), (-11.166283081692315, '0099'), (-11.166283081692315, '00am'), (-11.166283081692315, '00pm'), (-11.166283081692315, '013c2812c9'), (-11.166283081692315, '015'), (-11.166283081692315, '020'), (-11.166283081692315, '031'), (-11.166283081692315, '032'), (-11.166283081692315, '033'), (-11.166283081692315, '034'), (-11.166283081692315, '04')]\n",
            "REAL [(-7.790321128863685, 'rubio'), (-7.754374325606724, 'states'), (-7.742653060817885, 'house'), (-7.730209136895061, 'bush'), (-7.7227049395642915, 'republicans'), (-7.709872229922118, 'voters'), (-7.639925276205618, 'percent'), (-7.608156501563775, 'people'), (-7.5957904824222355, 'new'), (-7.506883510496619, 'party'), (-7.471965697798225, 'state'), (-7.425942538296496, 'republican'), (-7.39623679434132, 'campaign'), (-7.3851203468573745, 'president'), (-7.378340604164315, 'cruz'), (-7.365073542872814, 'sanders'), (-7.204090674493093, 'obama'), (-6.822588678458167, 'clinton'), (-6.658644925933563, 'said'), (-6.362460588173597, 'trump')]\n"
          ],
          "name": "stdout"
        }
      ]
    }
  ]
}