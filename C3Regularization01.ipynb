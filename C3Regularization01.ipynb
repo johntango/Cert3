{
  "nbformat": 4,
  "nbformat_minor": 0,
  "metadata": {
    "colab": {
      "name": "C3Regularization01.ipynb",
      "provenance": [],
      "collapsed_sections": [],
      "authorship_tag": "ABX9TyO7lrpUQb/ciwcHf3X6XLiF",
      "include_colab_link": true
    },
    "kernelspec": {
      "name": "python3",
      "display_name": "Python 3"
    },
    "language_info": {
      "name": "python"
    }
  },
  "cells": [
    {
      "cell_type": "markdown",
      "metadata": {
        "id": "view-in-github",
        "colab_type": "text"
      },
      "source": [
        "<a href=\"https://colab.research.google.com/github/johntango/Cert3/blob/main/C3Regularization01.ipynb\" target=\"_parent\"><img src=\"https://colab.research.google.com/assets/colab-badge.svg\" alt=\"Open In Colab\"/></a>"
      ]
    },
    {
      "cell_type": "code",
      "metadata": {
        "id": "ZpYP5cfk5Rbu"
      },
      "source": [
        "import pandas as pd\n",
        "import numpy as np\n",
        "import matplotlib.pyplot as plt\n",
        "from sklearn.linear_model import LinearRegression, Ridge, Lasso\n",
        "from sklearn.model_selection import train_test_split, cross_val_score\n",
        "from statistics import mean"
      ],
      "execution_count": 1,
      "outputs": []
    },
    {
      "cell_type": "code",
      "metadata": {
        "colab": {
          "base_uri": "https://localhost:8080/",
          "height": 224
        },
        "id": "NPRRIYgF5lUq",
        "outputId": "4b2653c0-ffa0-4e61-9600-9413dff2802e"
      },
      "source": [
        "# Changing the working location to the location of the data\n",
        "#cd C:\\Users\\Dev\\Desktop\\Kaggle\\House Prices\n",
        " \n",
        "# Loading the data into a Pandas DataFrame\n",
        "data = pd.read_csv('/content/kc_house_data.csv')\n",
        "data.head()\n",
        "\n"
      ],
      "execution_count": 11,
      "outputs": [
        {
          "output_type": "execute_result",
          "data": {
            "text/html": [
              "<div>\n",
              "<style scoped>\n",
              "    .dataframe tbody tr th:only-of-type {\n",
              "        vertical-align: middle;\n",
              "    }\n",
              "\n",
              "    .dataframe tbody tr th {\n",
              "        vertical-align: top;\n",
              "    }\n",
              "\n",
              "    .dataframe thead th {\n",
              "        text-align: right;\n",
              "    }\n",
              "</style>\n",
              "<table border=\"1\" class=\"dataframe\">\n",
              "  <thead>\n",
              "    <tr style=\"text-align: right;\">\n",
              "      <th></th>\n",
              "      <th>id</th>\n",
              "      <th>date</th>\n",
              "      <th>price</th>\n",
              "      <th>bedrooms</th>\n",
              "      <th>bathrooms</th>\n",
              "      <th>sqft_living</th>\n",
              "      <th>sqft_lot</th>\n",
              "      <th>floors</th>\n",
              "      <th>waterfront</th>\n",
              "      <th>view</th>\n",
              "      <th>condition</th>\n",
              "      <th>grade</th>\n",
              "      <th>sqft_above</th>\n",
              "      <th>sqft_basement</th>\n",
              "      <th>yr_built</th>\n",
              "      <th>yr_renovated</th>\n",
              "      <th>zipcode</th>\n",
              "      <th>lat</th>\n",
              "      <th>long</th>\n",
              "      <th>sqft_living15</th>\n",
              "      <th>sqft_lot15</th>\n",
              "    </tr>\n",
              "  </thead>\n",
              "  <tbody>\n",
              "    <tr>\n",
              "      <th>0</th>\n",
              "      <td>7129300520</td>\n",
              "      <td>20141013T000000</td>\n",
              "      <td>221900.0</td>\n",
              "      <td>3</td>\n",
              "      <td>1.00</td>\n",
              "      <td>1180</td>\n",
              "      <td>5650</td>\n",
              "      <td>1.0</td>\n",
              "      <td>0</td>\n",
              "      <td>0</td>\n",
              "      <td>3</td>\n",
              "      <td>7</td>\n",
              "      <td>1180.0</td>\n",
              "      <td>0</td>\n",
              "      <td>1955</td>\n",
              "      <td>0</td>\n",
              "      <td>98178</td>\n",
              "      <td>47.5112</td>\n",
              "      <td>-122.257</td>\n",
              "      <td>1340</td>\n",
              "      <td>5650</td>\n",
              "    </tr>\n",
              "    <tr>\n",
              "      <th>1</th>\n",
              "      <td>6414100192</td>\n",
              "      <td>20141209T000000</td>\n",
              "      <td>538000.0</td>\n",
              "      <td>3</td>\n",
              "      <td>2.25</td>\n",
              "      <td>2570</td>\n",
              "      <td>7242</td>\n",
              "      <td>2.0</td>\n",
              "      <td>0</td>\n",
              "      <td>0</td>\n",
              "      <td>3</td>\n",
              "      <td>7</td>\n",
              "      <td>2170.0</td>\n",
              "      <td>400</td>\n",
              "      <td>1951</td>\n",
              "      <td>1991</td>\n",
              "      <td>98125</td>\n",
              "      <td>47.7210</td>\n",
              "      <td>-122.319</td>\n",
              "      <td>1690</td>\n",
              "      <td>7639</td>\n",
              "    </tr>\n",
              "    <tr>\n",
              "      <th>2</th>\n",
              "      <td>5631500400</td>\n",
              "      <td>20150225T000000</td>\n",
              "      <td>180000.0</td>\n",
              "      <td>2</td>\n",
              "      <td>1.00</td>\n",
              "      <td>770</td>\n",
              "      <td>10000</td>\n",
              "      <td>1.0</td>\n",
              "      <td>0</td>\n",
              "      <td>0</td>\n",
              "      <td>3</td>\n",
              "      <td>6</td>\n",
              "      <td>770.0</td>\n",
              "      <td>0</td>\n",
              "      <td>1933</td>\n",
              "      <td>0</td>\n",
              "      <td>98028</td>\n",
              "      <td>47.7379</td>\n",
              "      <td>-122.233</td>\n",
              "      <td>2720</td>\n",
              "      <td>8062</td>\n",
              "    </tr>\n",
              "    <tr>\n",
              "      <th>3</th>\n",
              "      <td>2487200875</td>\n",
              "      <td>20141209T000000</td>\n",
              "      <td>604000.0</td>\n",
              "      <td>4</td>\n",
              "      <td>3.00</td>\n",
              "      <td>1960</td>\n",
              "      <td>5000</td>\n",
              "      <td>1.0</td>\n",
              "      <td>0</td>\n",
              "      <td>0</td>\n",
              "      <td>5</td>\n",
              "      <td>7</td>\n",
              "      <td>1050.0</td>\n",
              "      <td>910</td>\n",
              "      <td>1965</td>\n",
              "      <td>0</td>\n",
              "      <td>98136</td>\n",
              "      <td>47.5208</td>\n",
              "      <td>-122.393</td>\n",
              "      <td>1360</td>\n",
              "      <td>5000</td>\n",
              "    </tr>\n",
              "    <tr>\n",
              "      <th>4</th>\n",
              "      <td>1954400510</td>\n",
              "      <td>20150218T000000</td>\n",
              "      <td>510000.0</td>\n",
              "      <td>3</td>\n",
              "      <td>2.00</td>\n",
              "      <td>1680</td>\n",
              "      <td>8080</td>\n",
              "      <td>1.0</td>\n",
              "      <td>0</td>\n",
              "      <td>0</td>\n",
              "      <td>3</td>\n",
              "      <td>8</td>\n",
              "      <td>1680.0</td>\n",
              "      <td>0</td>\n",
              "      <td>1987</td>\n",
              "      <td>0</td>\n",
              "      <td>98074</td>\n",
              "      <td>47.6168</td>\n",
              "      <td>-122.045</td>\n",
              "      <td>1800</td>\n",
              "      <td>7503</td>\n",
              "    </tr>\n",
              "  </tbody>\n",
              "</table>\n",
              "</div>"
            ],
            "text/plain": [
              "           id             date     price  ...     long  sqft_living15  sqft_lot15\n",
              "0  7129300520  20141013T000000  221900.0  ... -122.257           1340        5650\n",
              "1  6414100192  20141209T000000  538000.0  ... -122.319           1690        7639\n",
              "2  5631500400  20150225T000000  180000.0  ... -122.233           2720        8062\n",
              "3  2487200875  20141209T000000  604000.0  ... -122.393           1360        5000\n",
              "4  1954400510  20150218T000000  510000.0  ... -122.045           1800        7503\n",
              "\n",
              "[5 rows x 21 columns]"
            ]
          },
          "metadata": {
            "tags": []
          },
          "execution_count": 11
        }
      ]
    },
    {
      "cell_type": "code",
      "metadata": {
        "colab": {
          "base_uri": "https://localhost:8080/"
        },
        "id": "FiWLXNEz8QtV",
        "outputId": "70070da8-8a44-47b1-b405-f150bbebea98"
      },
      "source": [
        "dropColumns = ['id', 'date', 'zipcode']\n",
        "data = data.drop(dropColumns, axis = 1)\n",
        "nulls = data.isnull().sum().sort_values(ascending=False)[0:20]\n",
        "type(nulls)\n",
        "data = data.select_dtypes(include=[np.number]).dropna(axis=1)\n",
        "sum(data.isnull().sum() != 0)\n",
        "data.shape"
      ],
      "execution_count": 12,
      "outputs": [
        {
          "output_type": "execute_result",
          "data": {
            "text/plain": [
              "(21613, 17)"
            ]
          },
          "metadata": {
            "tags": []
          },
          "execution_count": 12
        }
      ]
    },
    {
      "cell_type": "code",
      "metadata": {
        "id": "2CfOQoPk7DkO"
      },
      "source": [
        "# Dropping the numerically non-sensical variables\n",
        "\n",
        " \n",
        "# Separating the dependent and independent variables\n",
        "y = data['price']\n",
        "X = data.drop('price', axis = 1)\n",
        " \n",
        "# Dividing the data into training and testing set\n",
        "X_train, X_test, y_train, y_test = train_test_split(X, y, test_size = 0.25)"
      ],
      "execution_count": 13,
      "outputs": []
    },
    {
      "cell_type": "code",
      "metadata": {
        "colab": {
          "base_uri": "https://localhost:8080/"
        },
        "id": "hg40BbwR6tEG",
        "outputId": "3e270353-7346-4640-e19a-9966a9b4d9c5"
      },
      "source": [
        "# Building and fitting the Linear Regression model\n",
        "linearModel = LinearRegression()\n",
        "linearModel.fit(X_train, y_train)\n",
        " \n",
        "# Evaluating the Linear Regression model\n",
        "print(linearModel.score(X_test, y_test))"
      ],
      "execution_count": 14,
      "outputs": [
        {
          "output_type": "stream",
          "text": [
            "0.7044588297424521\n"
          ],
          "name": "stdout"
        }
      ]
    },
    {
      "cell_type": "code",
      "metadata": {
        "colab": {
          "base_uri": "https://localhost:8080/"
        },
        "id": "kiUW93UI8zrS",
        "outputId": "3bef6cb8-87cb-4eb4-d1d0-34e06c9bee3c"
      },
      "source": [
        "# L2 Regularization\n",
        "# List to maintain the different cross-validation scores\n",
        "cross_val_scores_ridge = []\n",
        " \n",
        "# List to maintain the different values of alpha\n",
        "alpha = []\n",
        " \n",
        "# Loop to compute the different values of cross-validation scores\n",
        "for i in range(1, 9):\n",
        "    ridgeModel = Ridge(alpha = i * 0.25)\n",
        "    ridgeModel.fit(X_train, y_train)\n",
        "    scores = cross_val_score(ridgeModel, X, y, cv = 10)\n",
        "    avg_cross_val_score = mean(scores)*100\n",
        "    cross_val_scores_ridge.append(avg_cross_val_score)\n",
        "    alpha.append(i * 0.25)\n",
        " \n",
        "# Loop to print the different values of cross-validation scores\n",
        "for i in range(0, len(alpha)):\n",
        "    print(str(alpha[i])+' : '+str(cross_val_scores_ridge[i]))"
      ],
      "execution_count": 15,
      "outputs": [
        {
          "output_type": "stream",
          "text": [
            "0.25 : 69.08949708276656\n",
            "0.5 : 69.0896736853784\n",
            "0.75 : 69.0898305535347\n",
            "1.0 : 69.08996788999445\n",
            "1.25 : 69.09008589519246\n",
            "1.5 : 69.09018476727105\n",
            "1.75 : 69.09026470210979\n",
            "2.0 : 69.09032589335602\n"
          ],
          "name": "stdout"
        }
      ]
    },
    {
      "cell_type": "code",
      "metadata": {
        "colab": {
          "base_uri": "https://localhost:8080/"
        },
        "id": "2Vc2jH-r8-tu",
        "outputId": "fa7cf9b2-cdbb-4c5b-8865-b7cd25af561b"
      },
      "source": [
        "# Building and fitting the Ridge Regression model\n",
        "ridgeModelChosen = Ridge(alpha = 2)\n",
        "ridgeModelChosen.fit(X_train, y_train)\n",
        " \n",
        "# Evaluating the Ridge Regression model\n",
        "print(ridgeModelChosen.score(X_test, y_test))"
      ],
      "execution_count": 16,
      "outputs": [
        {
          "output_type": "stream",
          "text": [
            "0.704491234184645\n"
          ],
          "name": "stdout"
        }
      ]
    },
    {
      "cell_type": "code",
      "metadata": {
        "colab": {
          "base_uri": "https://localhost:8080/"
        },
        "id": "WHqFh-yM9LJ1",
        "outputId": "21d51f72-0dfb-43a8-910d-15c7ea49bb8a"
      },
      "source": [
        "# Lasso L1 Regularization\n",
        "# List to maintain the cross-validation scores\n",
        "cross_val_scores_lasso = []\n",
        " \n",
        "# List to maintain the different values of Lambda\n",
        "Lambda = []\n",
        " \n",
        "# Loop to compute the cross-validation scores\n",
        "for i in range(1, 9):\n",
        "    lassoModel = Lasso(alpha = i * 0.25, tol = 0.0925)\n",
        "    lassoModel.fit(X_train, y_train)\n",
        "    scores = cross_val_score(lassoModel, X, y, cv = 10)\n",
        "    avg_cross_val_score = mean(scores)*100\n",
        "    cross_val_scores_lasso.append(avg_cross_val_score)\n",
        "    Lambda.append(i * 0.25)\n",
        " \n",
        "# Loop to print the different values of cross-validation scores\n",
        "for i in range(0, len(alpha)):\n",
        "    print(str(alpha[i])+' : '+str(cross_val_scores_lasso[i]))"
      ],
      "execution_count": 17,
      "outputs": [
        {
          "output_type": "stream",
          "text": [
            "0.25 : 69.08930606738564\n",
            "0.5 : 69.08931157130695\n",
            "0.75 : 69.08931704585153\n",
            "1.0 : 69.08932249597733\n",
            "1.25 : 69.08932791842864\n",
            "1.5 : 69.08933331350488\n",
            "1.75 : 69.08933868275071\n",
            "2.0 : 69.08934402400364\n"
          ],
          "name": "stdout"
        }
      ]
    },
    {
      "cell_type": "code",
      "metadata": {
        "colab": {
          "base_uri": "https://localhost:8080/"
        },
        "id": "KdPAU2mj9XHW",
        "outputId": "95a080aa-6760-4b93-e2f9-1c30a4d91ff2"
      },
      "source": [
        "# Building and fitting the Lasso Regression Model\n",
        "lassoModelChosen = Lasso(alpha = 2, tol = 0.0925)\n",
        "lassoModelChosen.fit(X_train, y_train)\n",
        " \n",
        "# Evaluating the Lasso Regression model\n",
        "print(lassoModelChosen.score(X_test, y_test))"
      ],
      "execution_count": 18,
      "outputs": [
        {
          "output_type": "stream",
          "text": [
            "0.7044605731431242\n"
          ],
          "name": "stdout"
        }
      ]
    },
    {
      "cell_type": "code",
      "metadata": {
        "colab": {
          "base_uri": "https://localhost:8080/"
        },
        "id": "gNh5O8FYA5aw",
        "outputId": "50f2f2fd-c101-432f-b2a2-8a817c685f54"
      },
      "source": [
        "# Building the two lists for visualization\n",
        "models = ['Linear Regression', 'Ridge Regression', 'Lasso Regression']\n",
        "scores = [linearModel.score(X_test, y_test),\n",
        "         ridgeModelChosen.score(X_test, y_test),\n",
        "         lassoModelChosen.score(X_test, y_test)]\n",
        " \n",
        "# Building the dictionary to compare the scores\n",
        "mapping = {}\n",
        "mapping['Linear Regreesion'] = linearModel.score(X_test, y_test)\n",
        "mapping['Ridge Regreesion'] = ridgeModelChosen.score(X_test, y_test)\n",
        "mapping['Lasso Regression'] = lassoModelChosen.score(X_test, y_test)\n",
        " \n",
        "# Printing the scores for different models\n",
        "for key, val in mapping.items():\n",
        "    print(str(key)+' : '+str(val))"
      ],
      "execution_count": 19,
      "outputs": [
        {
          "output_type": "stream",
          "text": [
            "Linear Regreesion : 0.7044588297424521\n",
            "Ridge Regreesion : 0.704491234184645\n",
            "Lasso Regression : 0.7044605731431242\n"
          ],
          "name": "stdout"
        }
      ]
    },
    {
      "cell_type": "code",
      "metadata": {
        "colab": {
          "base_uri": "https://localhost:8080/",
          "height": 279
        },
        "id": "QIPxW1ebBCsF",
        "outputId": "2bae1936-cd10-4980-e209-bb186bc7fdb1"
      },
      "source": [
        "# Plotting the scores\n",
        "plt.bar(models, scores)\n",
        "plt.xlabel('Regression Models')\n",
        "plt.ylabel('Score')\n",
        "plt.show()"
      ],
      "execution_count": 20,
      "outputs": [
        {
          "output_type": "display_data",
          "data": {
            "image/png": "[encoded data removed]",
            "text/plain": [
              "<Figure size 432x288 with 1 Axes>"
            ]
          },
          "metadata": {
            "tags": [],
            "needs_background": "light"
          }
        }
      ]
    }
  ]
}